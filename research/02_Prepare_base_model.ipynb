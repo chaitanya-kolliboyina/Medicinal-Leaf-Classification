{
 "cells": [
  {
   "cell_type": "code",
   "execution_count": 8,
   "metadata": {},
   "outputs": [],
   "source": [
    "import os "
   ]
  },
  {
   "cell_type": "code",
   "execution_count": 9,
   "metadata": {},
   "outputs": [
    {
     "data": {
      "text/plain": [
       "'c:\\\\Users\\\\Chaitanya\\\\Documents\\\\ML\\\\Indian Medical Leaf Clf\\\\Medicinal-Leaf-Classification\\\\research'"
      ]
     },
     "execution_count": 9,
     "metadata": {},
     "output_type": "execute_result"
    }
   ],
   "source": [
    "%pwd"
   ]
  },
  {
   "cell_type": "code",
   "execution_count": 10,
   "metadata": {},
   "outputs": [],
   "source": [
    "os.chdir(\"../\")"
   ]
  },
  {
   "cell_type": "code",
   "execution_count": 11,
   "metadata": {},
   "outputs": [
    {
     "data": {
      "text/plain": [
       "'c:\\\\Users\\\\Chaitanya\\\\Documents\\\\ML\\\\Indian Medical Leaf Clf\\\\Medicinal-Leaf-Classification'"
      ]
     },
     "execution_count": 11,
     "metadata": {},
     "output_type": "execute_result"
    }
   ],
   "source": [
    "%pwd"
   ]
  },
  {
   "cell_type": "markdown",
   "metadata": {},
   "source": [
    "### entity (entity/config_entity.py)"
   ]
  },
  {
   "cell_type": "code",
   "execution_count": 12,
   "metadata": {},
   "outputs": [],
   "source": [
    "from dataclasses import dataclass\n",
    "from pathlib import Path\n",
    "\n",
    "@dataclass(frozen=True)\n",
    "class PrepareBaseModelConfig:\n",
    "    root_dir: Path\n",
    "    base_model_path: Path\n",
    "    updated_model_path: Path\n",
    "    params_image_size:list\n",
    "    params_boundaries: list\n",
    "    params_learning_rate:list\n",
    "    params_include_top: bool\n",
    "    params_weight:str\n",
    "    params_classes: int\n",
    "    params_freeze:bool"
   ]
  },
  {
   "cell_type": "markdown",
   "metadata": {},
   "source": [
    "### Configuration (configuration.py)"
   ]
  },
  {
   "cell_type": "code",
   "execution_count": 13,
   "metadata": {},
   "outputs": [],
   "source": [
    "from MedicineLeafClassifier.constants import *\n",
    "from MedicineLeafClassifier.utils.common import read_yaml,create_directories"
   ]
  },
  {
   "cell_type": "code",
   "execution_count": 14,
   "metadata": {},
   "outputs": [],
   "source": [
    "class ConfigurationManager:\n",
    "    def __init__(\n",
    "            self,\n",
    "            config_filepath = CONFIG_FILE_PATH,\n",
    "            params_filepath = PARAMS_FILE_PATH ):\n",
    "        self.config = read_yaml(config_filepath)\n",
    "        self.params = read_yaml(params_filepath)\n",
    "        create_directories([self.config.artifacts_root])\n",
    "\n",
    "    def get_prepare_base_model_config(self) -> PrepareBaseModelConfig:\n",
    "        config = self.config.prepare_base_model\n",
    "\n",
    "        create_directories([config.root_dir])\n",
    "\n",
    "        prepare_base_model_config = PrepareBaseModelConfig(\n",
    "            root_dir=Path(config.root_dir),\n",
    "            base_model_path=Path(config.base_model_path),\n",
    "            updated_model_path=Path(config.updated_base_model_path),\n",
    "            params_image_size=self.params.IMAGE_SIZE,\n",
    "            params_include_top=self.params.INCLUDE_TOP,\n",
    "            params_weight=self.params.WEIGHTS,\n",
    "            params_boundaries=self.params.BOUNDARIES,   \n",
    "            params_learning_rate=self.params.LR_VALUES,\n",
    "            params_classes=self.params.CLASSES,\n",
    "            params_freeze=self.params.FREEZE\n",
    "        )\n",
    "\n",
    "        return prepare_base_model_config\n",
    "        "
   ]
  },
  {
   "cell_type": "markdown",
   "metadata": {},
   "source": [
    "### Components (prepare_base_model.py)"
   ]
  },
  {
   "cell_type": "code",
   "execution_count": 15,
   "metadata": {},
   "outputs": [],
   "source": [
    "import os\n",
    "import urllib.request as request\n",
    "from zipfile import ZipFile\n",
    "import tensorflow as tf"
   ]
  },
  {
   "cell_type": "code",
   "execution_count": 16,
   "metadata": {},
   "outputs": [],
   "source": [
    "class PrepareBasemodel:\n",
    "    def __init__(self, config:PrepareBaseModelConfig):\n",
    "        self.config = config\n",
    "\n",
    "\n",
    "    def get_base_model(self):\n",
    "        self.model = tf.keras.applications.InceptionResNetV2(\n",
    "            input_shape=self.config.params_image_size,\n",
    "            weights = self.config.params_weight,\n",
    "            include_top = self.config.params_include_top\n",
    "        )\n",
    "\n",
    "        self.save_model(path=self.config.base_model_path, model=self.model)     \n",
    "\n",
    "\n",
    "    @staticmethod\n",
    "    def prepare_full_model(model,classes,freeze,boundaries,learning_rate):\n",
    "        lr_schedule = tf.keras.optimizers.schedules.PiecewiseConstantDecay(\n",
    "            boundaries,learning_rate\n",
    "        )\n",
    "        \n",
    "        if freeze:\n",
    "            model.trainable = False\n",
    "\n",
    "        full_model = tf.keras.Sequential([\n",
    "            tf.keras.layers.Input((224,224,3)),\n",
    "            tf.keras.layers.Rescaling(1./255),\n",
    "            model, \n",
    "            tf.keras.layers.Flatten(),\n",
    "            tf.keras.layers.Dense(256, activation='relu'),\n",
    "            tf.keras.layers.Dropout(0.3),\n",
    "            tf.keras.layers.Dense(128, activation='relu'),\n",
    "            tf.keras.layers.Dense(classes, activation='softmax')  # Adjust for your number of classes\n",
    "            ])\n",
    "        \n",
    "        full_model.compile(\n",
    "            optimizer=tf.keras.optimizers.Adam(learning_rate = lr_schedule), \n",
    "                  loss=tf.keras.losses.SparseCategoricalCrossentropy(),\n",
    "                  metrics=['accuracy']\n",
    "        )\n",
    "        full_model.summary()\n",
    "\n",
    "        return full_model\n",
    "    \n",
    "    def update_base_model(self):\n",
    "        self.full_model = self.prepare_full_model(\n",
    "            model=self.model,\n",
    "            classes=self.config.params_classes,\n",
    "            freeze=self.config.params_freeze,\n",
    "            boundaries=self.config.params_boundaries,\n",
    "            learning_rate=self.config.params_learning_rate\n",
    "        )\n",
    "\n",
    "        self.save_model(path=self.config.updated_model_path, model=self.full_model)\n",
    "\n",
    "    @staticmethod\n",
    "    def save_model(path:Path, model):\n",
    "        model.save(path)"
   ]
  },
  {
   "cell_type": "markdown",
   "metadata": {},
   "source": [
    "### Pipeline"
   ]
  },
  {
   "cell_type": "code",
   "execution_count": 17,
   "metadata": {},
   "outputs": [
    {
     "name": "stdout",
     "output_type": "stream",
     "text": [
      "[2024-02-29 13:21:21,102: INFO: common: yaml file: config\\config.yaml loaded successfully]\n",
      "[2024-02-29 13:21:21,107: INFO: common: yaml file: params.yaml loaded successfully]\n",
      "[2024-02-29 13:21:21,107: INFO: common: Created directory at artifacts]\n",
      "[2024-02-29 13:21:21,113: INFO: common: Created directory at artifacts/prepare_base_model]\n",
      "[2024-02-29 13:21:27,312: WARNING: saving_utils: Compiled the loaded model, but the compiled metrics have yet to be built. `model.compile_metrics` will be empty until you train or evaluate the model.]\n",
      "Model: \"sequential\"\n",
      "_________________________________________________________________\n",
      " Layer (type)                Output Shape              Param #   \n",
      "=================================================================\n",
      " rescaling (Rescaling)       (None, 224, 224, 3)       0         \n",
      "                                                                 \n",
      " inception_resnet_v2 (Functi  (None, 5, 5, 1536)       54336736  \n",
      " onal)                                                           \n",
      "                                                                 \n",
      " flatten (Flatten)           (None, 38400)             0         \n",
      "                                                                 \n",
      " dense (Dense)               (None, 256)               9830656   \n",
      "                                                                 \n",
      " dropout (Dropout)           (None, 256)               0         \n",
      "                                                                 \n",
      " dense_1 (Dense)             (None, 128)               32896     \n",
      "                                                                 \n",
      " dense_2 (Dense)             (None, 80)                10320     \n",
      "                                                                 \n",
      "=================================================================\n",
      "Total params: 64,210,608\n",
      "Trainable params: 64,150,064\n",
      "Non-trainable params: 60,544\n",
      "_________________________________________________________________\n"
     ]
    }
   ],
   "source": [
    "try:\n",
    "    config = ConfigurationManager()\n",
    "    Prepare_base_model_config = config.get_prepare_base_model_config()\n",
    "    prepare_base_model = PrepareBasemodel(config=Prepare_base_model_config)\n",
    "    prepare_base_model.get_base_model()\n",
    "    prepare_base_model.update_base_model()\n",
    "except Exception as e:\n",
    "    raise e"
   ]
  },
  {
   "cell_type": "code",
   "execution_count": null,
   "metadata": {},
   "outputs": [],
   "source": []
  },
  {
   "cell_type": "code",
   "execution_count": null,
   "metadata": {},
   "outputs": [],
   "source": []
  }
 ],
 "metadata": {
  "kernelspec": {
   "display_name": "IMLD_clf",
   "language": "python",
   "name": "python3"
  },
  "language_info": {
   "codemirror_mode": {
    "name": "ipython",
    "version": 3
   },
   "file_extension": ".py",
   "mimetype": "text/x-python",
   "name": "python",
   "nbconvert_exporter": "python",
   "pygments_lexer": "ipython3",
   "version": "3.10.0"
  }
 },
 "nbformat": 4,
 "nbformat_minor": 2
}
