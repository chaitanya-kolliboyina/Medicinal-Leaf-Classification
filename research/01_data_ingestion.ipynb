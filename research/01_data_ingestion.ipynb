{
 "cells": [
  {
   "cell_type": "code",
   "execution_count": 1,
   "metadata": {},
   "outputs": [],
   "source": [
    "import os"
   ]
  },
  {
   "cell_type": "code",
   "execution_count": 2,
   "metadata": {},
   "outputs": [
    {
     "data": {
      "text/plain": [
       "'c:\\\\Users\\\\Chaitanya\\\\Documents\\\\ML\\\\Indian-Medical-Leaf-Clf\\\\Medicinal-Leaf-Classification\\\\research'"
      ]
     },
     "execution_count": 2,
     "metadata": {},
     "output_type": "execute_result"
    }
   ],
   "source": [
    "%pwd"
   ]
  },
  {
   "cell_type": "code",
   "execution_count": 3,
   "metadata": {},
   "outputs": [
    {
     "data": {
      "text/plain": [
       "'c:\\\\Users\\\\Chaitanya\\\\Documents\\\\ML\\\\Indian-Medical-Leaf-Clf\\\\Medicinal-Leaf-Classification'"
      ]
     },
     "execution_count": 3,
     "metadata": {},
     "output_type": "execute_result"
    }
   ],
   "source": [
    "os.chdir(\"../\")\n",
    "\n",
    "%pwd"
   ]
  },
  {
   "cell_type": "markdown",
   "metadata": {},
   "source": [
    "* Updating entity"
   ]
  },
  {
   "cell_type": "code",
   "execution_count": 4,
   "metadata": {},
   "outputs": [],
   "source": [
    "from dataclasses import dataclass\n",
    "from pathlib import Path \n",
    "\n",
    "@dataclass(frozen=True)\n",
    "class DataIngestionConfig:                             # Creating a dataclass for DataIngestionConfig with all the required parameters   \n",
    "    root_dir : Path\n",
    "    source_url : str    \n",
    "    # local_data_file : Path\n",
    "    unzip_dir : Path   \n",
    "    "
   ]
  },
  {
   "cell_type": "code",
   "execution_count": 5,
   "metadata": {},
   "outputs": [],
   "source": [
    "from MedicineLeafClassifier.constants import *\n",
    "from MedicineLeafClassifier.utils.common import read_yaml,create_directories"
   ]
  },
  {
   "cell_type": "markdown",
   "metadata": {},
   "source": [
    "* Updating config manager(configuration.py) from config in src"
   ]
  },
  {
   "cell_type": "code",
   "execution_count": 6,
   "metadata": {},
   "outputs": [],
   "source": [
    "class ConfigurationManager:\n",
    "    def __init__(                                                     # Defining the constructor\n",
    "        self,                                                         \n",
    "        config_filepath = CONFIG_FILE_PATH,\n",
    "        params_filepath = PARAMS_FILE_PATH  ):                         #\n",
    "\n",
    "        self.config = read_yaml(config_filepath)                        # Reading yaml files (config.yaml and params.yaml)\n",
    "        self.params = read_yaml(params_filepath)\n",
    "\n",
    "        create_directories([self.config.artifacts_root])                # Creating artifacts folder in the root directory\n",
    "\n",
    "    def get_data_ingestion_config(self) -> DataIngestionConfig:        \n",
    "        \"\"\" returns DataIngestionConfig type so that we can use it in\n",
    "           \n",
    "            other files\n",
    "        \"\"\"\n",
    "        config = self.config.data_ingestion\n",
    "        print(config)\n",
    "        create_directories([config.root_dir]) \n",
    "        \n",
    "        data_ingestion_config = DataIngestionConfig(\n",
    "            root_dir = config.root_dir,\n",
    "            source_url = config.source_url,\n",
    "            # local_data_file = config.local_data_file,\n",
    "            unzip_dir = config.unzip_dir\n",
    "            \n",
    "        )\n",
    "        \n",
    "        return data_ingestion_config"
   ]
  },
  {
   "cell_type": "code",
   "execution_count": 7,
   "metadata": {},
   "outputs": [
    {
     "name": "stdout",
     "output_type": "stream",
     "text": [
      "[2024-03-02 15:37:24,538: INFO: common: yaml file: config\\config.yaml loaded successfully]\n",
      "[2024-03-02 15:37:24,556: INFO: common: yaml file: params.yaml loaded successfully]\n",
      "[2024-03-02 15:37:24,560: INFO: common: Created directory at artifacts]\n",
      "{'root_dir': 'artifacts/data_ingestion', 'source_url': 'https://www.kaggle.com/datasets/warcoder/indian-medicinal-leaf-image-dataset/data', 'unzip_dir': 'artifacts/data_ingestion'}\n",
      "[2024-03-02 15:37:24,562: INFO: common: Created directory at artifacts/data_ingestion]\n"
     ]
    },
    {
     "data": {
      "text/plain": [
       "DataIngestionConfig(root_dir='artifacts/data_ingestion', source_url='https://www.kaggle.com/datasets/warcoder/indian-medicinal-leaf-image-dataset/data', unzip_dir='artifacts/data_ingestion')"
      ]
     },
     "execution_count": 7,
     "metadata": {},
     "output_type": "execute_result"
    }
   ],
   "source": [
    "ConfigurationManager().get_data_ingestion_config()"
   ]
  },
  {
   "cell_type": "markdown",
   "metadata": {},
   "source": [
    "* Compponents"
   ]
  },
  {
   "cell_type": "code",
   "execution_count": 8,
   "metadata": {},
   "outputs": [],
   "source": [
    "import os\n",
    "import urllib.request as request \n",
    "import zipfile\n",
    "from MedicineLeafClassifier import logger\n",
    "from MedicineLeafClassifier.utils.common import get_size\n",
    "import opendatasets as od"
   ]
  },
  {
   "cell_type": "code",
   "execution_count": 9,
   "metadata": {},
   "outputs": [],
   "source": [
    "kaggle_api = {\"username\": \"chaitanyakolliboyina\",\n",
    "              \"key\": \"d896012ad125ecf66cef085023aab7ef\"}"
   ]
  },
  {
   "cell_type": "code",
   "execution_count": 48,
   "metadata": {},
   "outputs": [],
   "source": [
    "class DataIngestion:\n",
    "    def __init__(self, config: DataIngestionConfig):\n",
    "        self.config = config\n",
    "\n",
    "    def download_file(self):\n",
    "        if len(os.listdir(self.config.unzip_dir))==0:\n",
    "            print(\"here\")\n",
    "            od.download(\n",
    "                self.config.source_url,\n",
    "                data_dir = self.config.root_dir\n",
    "                )\n",
    "            # filename,headers = request.urlretrieve(\n",
    "            #     url = self.config.source_url,\n",
    "            #     filename = self.config.local_data_file\n",
    "            # )\n",
    "           # logger.info(f\"{self.config.local_data_file} download with following info: {headers}\")\n",
    "            logger.info(f\"Data downloaded at {self.config.root_dir}\")\n",
    "        else:\n",
    "            logger.info(\"Number of folders exist :\" + str(len(os.listdir(\"./artifacts/data_ingestion/indian-medicinal-leaf-image-dataset/Medicinal Leaf dataset\"))))\n",
    "            # logger.info(f\"f already exists of size: {get_size(Path(self.config.local_data_file))}\")\n",
    "\n",
    "    # def extract_zip_file(self):\n",
    "    #     \"\"\"\n",
    "    #     zip_file_path: str\n",
    "    #     Extracts the zip file into the data directory\n",
    "    #     Function returns None\n",
    "        \n",
    "    #     \"\"\"\n",
    "    #     unzip_path = self.config.unzip_dir\n",
    "    #     os.makedirs(unzip_path,exist_ok=True)\n",
    "    #     with zipfile.ZipFile(self.config.local_data_file,'r') as zip_ref:\n",
    "    #         zip_ref.extractall(unzip_path)\n"
   ]
  },
  {
   "cell_type": "markdown",
   "metadata": {},
   "source": [
    "self.config.unzip_dir,\"indian-medicinal-leaf-image-dataset/Medicinal Leaf dataset\"))"
   ]
  },
  {
   "cell_type": "markdown",
   "metadata": {},
   "source": [
    "* Pipeline"
   ]
  },
  {
   "cell_type": "code",
   "execution_count": 49,
   "metadata": {},
   "outputs": [
    {
     "name": "stdout",
     "output_type": "stream",
     "text": [
      "[2024-02-28 15:37:52,088: INFO: common: yaml file: config\\config.yaml loaded successfully]\n",
      "[2024-02-28 15:37:52,089: INFO: common: yaml file: params.yaml loaded successfully]\n",
      "[2024-02-28 15:37:52,091: INFO: common: Created directory at artifacts]\n",
      "{'root_dir': 'artifacts/data_ingestion', 'source_url': 'https://www.kaggle.com/datasets/warcoder/indian-medicinal-leaf-image-dataset/data', 'unzip_dir': 'artifacts/data_ingestion'}\n",
      "[2024-02-28 15:37:52,092: INFO: common: Created directory at artifacts/data_ingestion]\n",
      "[2024-02-28 15:37:52,092: INFO: 3557387068: Number of folders exist :80]\n"
     ]
    }
   ],
   "source": [
    "try:\n",
    "    config = ConfigurationManager()\n",
    "    data_ingestion_config = config.get_data_ingestion_config()\n",
    "    data_ingestion = DataIngestion(config = data_ingestion_config)\n",
    "    data_ingestion.download_file()\n",
    "    # data_ingestion.extract_zip_file()\n",
    "except Exception as e:\n",
    "    raise e\n"
   ]
  },
  {
   "cell_type": "code",
   "execution_count": null,
   "metadata": {},
   "outputs": [],
   "source": []
  }
 ],
 "metadata": {
  "kernelspec": {
   "display_name": "IMLD_clf",
   "language": "python",
   "name": "python3"
  },
  "language_info": {
   "codemirror_mode": {
    "name": "ipython",
    "version": 3
   },
   "file_extension": ".py",
   "mimetype": "text/x-python",
   "name": "python",
   "nbconvert_exporter": "python",
   "pygments_lexer": "ipython3",
   "version": "3.10.0"
  }
 },
 "nbformat": 4,
 "nbformat_minor": 2
}
